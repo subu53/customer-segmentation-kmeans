{
 "cells": [
  {
   "cell_type": "markdown",
   "id": "f3605402-951a-478e-9070-a9b572823b56",
   "metadata": {},
   "source": [
    " 🧾 Project Title: Customer Segmentation Using K-Means Clustering\n",
    "\n",
    "📌 Objective\n",
    "\n",
    "To identify distinct groups of customers based on their demographic and spending behavior using the K-Means clustering algorithm. \n",
    "This segmentation will help businesses understand their customer base better and implement more effective, personalized marketing strategies.\n",
    "\n",
    "\n",
    "🎯 Goals\n",
    "\n",
    "1. Load and understand the dataset – Explore customer data to identify relevant features.\n",
    "2. Clean and preprocess the data – Handle missing values, encode categorical data, and normalize features.\n",
    "3. Determine the optimal number of clusters – Use the Elbow Method to identify the best value for `k`.\n",
    "4. Apply K-Means Clustering – Train a K-Means model to segment customers into groups.\n",
    "5. Visualize the clusters – Create 2D/3D visual representations of the customer groups.\n",
    "6. Interpret and analyze each segment – Understand what makes each group unique.\n",
    "7. Provide business insights – Recommend actionable strategies based on the segmentation results.\n",
    "\n",
    "\n",
    "🧰 Tools & Technologies\n",
    "\n",
    "- Python Libraries: pandas, numpy, matplotlib, seaborn, scikit-learn\n",
    "- Algorithm: K-Means Clustering (unsupervised machine learning)\n",
    "- Environment: Jupyter Notebook\n",
    "\n",
    "\n",
    "📊 Dataset Overview\n",
    "\n",
    "Filename: `Mall_Customers.csv`\n",
    "\n",
    "Columns (likely):\n",
    "- `CustomerID`: Unique ID assigned to each customer\n",
    "- `Gender`: Male/Female\n",
    "- `Age`: Age of the customer\n",
    "- `Annual Income (k$)`: Yearly income in thousands of dollars\n",
    "- `Spending Score (1-100)`: Score assigned by the mall based on customer spending behavior and loyalty\n",
    "\n",
    "📈 Why Customer Segmentation?\n",
    "\n",
    "- Helps tailor marketing campaigns to different customer types\n",
    "- Improves customer satisfaction and loyalty through personalization\n",
    "- Identifies high-value customers for special attention\n",
    "- Optimizes resource allocation in marketing and sales\n",
    "\n",
    "\n",
    "✅ Expected Outcomes\n",
    "\n",
    "- Clear segmentation of customers into meaningful groups (e.g., budget shoppers, high-income big spenders, etc.)\n",
    "- Visualizations to illustrate the nature and size of each cluster\n",
    "- Business insights derived from each segment’s profile\n",
    "- Reproducible notebook and clean codebase for future use or adaptation"
   ]
  },
  {
   "cell_type": "code",
   "execution_count": 33,
   "id": "217b26e5-d5de-4ba5-acc3-3bf445c220d8",
   "metadata": {},
   "outputs": [],
   "source": [
    "#Import Libraries\n",
    "import pandas as pd\n",
    "from sklearn.preprocessing import StandardScaler\n",
    "from sklearn.decomposition import PCA\n",
    "from sklearn.cluster import KMeans\n",
    "import matplotlib.pyplot as plt"
   ]
  },
  {
   "cell_type": "markdown",
   "id": "6b539085-92ae-4b7e-95d9-567b8217f69f",
   "metadata": {},
   "source": [
    "✅ Step 1: Load and Inspect the Dataset"
   ]
  },
  {
   "cell_type": "code",
   "execution_count": 9,
   "id": "bba7b433-43e1-46b4-b286-09541a02995c",
   "metadata": {},
   "outputs": [
    {
     "data": {
      "text/html": [
       "<div>\n",
       "<style scoped>\n",
       "    .dataframe tbody tr th:only-of-type {\n",
       "        vertical-align: middle;\n",
       "    }\n",
       "\n",
       "    .dataframe tbody tr th {\n",
       "        vertical-align: top;\n",
       "    }\n",
       "\n",
       "    .dataframe thead th {\n",
       "        text-align: right;\n",
       "    }\n",
       "</style>\n",
       "<table border=\"1\" class=\"dataframe\">\n",
       "  <thead>\n",
       "    <tr style=\"text-align: right;\">\n",
       "      <th></th>\n",
       "      <th>CustomerID</th>\n",
       "      <th>Gender</th>\n",
       "      <th>Age</th>\n",
       "      <th>Annual Income (k$)</th>\n",
       "      <th>Spending Score (1-100)</th>\n",
       "    </tr>\n",
       "  </thead>\n",
       "  <tbody>\n",
       "    <tr>\n",
       "      <th>0</th>\n",
       "      <td>1</td>\n",
       "      <td>Male</td>\n",
       "      <td>19</td>\n",
       "      <td>15</td>\n",
       "      <td>39</td>\n",
       "    </tr>\n",
       "    <tr>\n",
       "      <th>1</th>\n",
       "      <td>2</td>\n",
       "      <td>Male</td>\n",
       "      <td>21</td>\n",
       "      <td>15</td>\n",
       "      <td>81</td>\n",
       "    </tr>\n",
       "    <tr>\n",
       "      <th>2</th>\n",
       "      <td>3</td>\n",
       "      <td>Female</td>\n",
       "      <td>20</td>\n",
       "      <td>16</td>\n",
       "      <td>6</td>\n",
       "    </tr>\n",
       "    <tr>\n",
       "      <th>3</th>\n",
       "      <td>4</td>\n",
       "      <td>Female</td>\n",
       "      <td>23</td>\n",
       "      <td>16</td>\n",
       "      <td>77</td>\n",
       "    </tr>\n",
       "    <tr>\n",
       "      <th>4</th>\n",
       "      <td>5</td>\n",
       "      <td>Female</td>\n",
       "      <td>31</td>\n",
       "      <td>17</td>\n",
       "      <td>40</td>\n",
       "    </tr>\n",
       "  </tbody>\n",
       "</table>\n",
       "</div>"
      ],
      "text/plain": [
       "   CustomerID  Gender  Age  Annual Income (k$)  Spending Score (1-100)\n",
       "0           1    Male   19                  15                      39\n",
       "1           2    Male   21                  15                      81\n",
       "2           3  Female   20                  16                       6\n",
       "3           4  Female   23                  16                      77\n",
       "4           5  Female   31                  17                      40"
      ]
     },
     "execution_count": 9,
     "metadata": {},
     "output_type": "execute_result"
    }
   ],
   "source": [
    "#Load the Dataset\n",
    "df = pd.read_csv(r'C:\\Users\\Sam_Ke\\Downloads\\Mall_Customers.csv')\n",
    "\n",
    "# Display the first few rows of the dataset\n",
    "df.head()\n"
   ]
  },
  {
   "cell_type": "code",
   "execution_count": 11,
   "id": "141e1d21-cdff-443f-a50b-074a8def8779",
   "metadata": {},
   "outputs": [
    {
     "name": "stdout",
     "output_type": "stream",
     "text": [
      "<class 'pandas.core.frame.DataFrame'>\n",
      "RangeIndex: 200 entries, 0 to 199\n",
      "Data columns (total 5 columns):\n",
      " #   Column                  Non-Null Count  Dtype \n",
      "---  ------                  --------------  ----- \n",
      " 0   CustomerID              200 non-null    int64 \n",
      " 1   Gender                  200 non-null    object\n",
      " 2   Age                     200 non-null    int64 \n",
      " 3   Annual Income (k$)      200 non-null    int64 \n",
      " 4   Spending Score (1-100)  200 non-null    int64 \n",
      "dtypes: int64(4), object(1)\n",
      "memory usage: 7.9+ KB\n"
     ]
    }
   ],
   "source": [
    "#Display dataset Information\n",
    "df.info()"
   ]
  },
  {
   "cell_type": "markdown",
   "id": "c64c1300-8cbd-4fc2-940d-bb6e35e8ccc1",
   "metadata": {},
   "source": [
    "🧹 Step 2: Data Preprocessing"
   ]
  },
  {
   "cell_type": "markdown",
   "id": "fef53edc-7315-4c5f-a3f3-b1121b54748e",
   "metadata": {},
   "source": [
    "2.1 👉 Check for Missing Values"
   ]
  },
  {
   "cell_type": "code",
   "execution_count": 15,
   "id": "6cb9995f-5362-4fb1-be32-8ad05943c0a3",
   "metadata": {},
   "outputs": [
    {
     "data": {
      "text/plain": [
       "CustomerID                0\n",
       "Gender                    0\n",
       "Age                       0\n",
       "Annual Income (k$)        0\n",
       "Spending Score (1-100)    0\n",
       "dtype: int64"
      ]
     },
     "execution_count": 15,
     "metadata": {},
     "output_type": "execute_result"
    }
   ],
   "source": [
    "# Check for null values\n",
    "df.isnull().sum()"
   ]
  },
  {
   "cell_type": "markdown",
   "id": "e823969b-9613-42b7-a67f-5bff47735446",
   "metadata": {},
   "source": [
    "2.2 👉 Drop Unnecessary Columns"
   ]
  },
  {
   "cell_type": "code",
   "execution_count": 17,
   "id": "33debc71-4351-4dc8-884a-33566bf879de",
   "metadata": {},
   "outputs": [],
   "source": [
    "#CustomerID is a unique indentifier not useful in Clustering.\n",
    "df = df.drop('CustomerID', axis=1)"
   ]
  },
  {
   "cell_type": "markdown",
   "id": "6d9fddb1-b76a-4c98-94f9-fd84044e9669",
   "metadata": {},
   "source": [
    "2.3 👉 Encode Categorical Variables"
   ]
  },
  {
   "cell_type": "code",
   "execution_count": 19,
   "id": "b0d8574a-5c33-46d8-97fc-0b18a9250673",
   "metadata": {},
   "outputs": [],
   "source": [
    "# Encode Gender: Female = 0, Male = 1\n",
    "df['Gender'] = df['Gender'].map({'Female': 0, 'Male': 1})"
   ]
  },
  {
   "cell_type": "markdown",
   "id": "d5bd6d6e-63ca-4116-844c-638cdb0a4b5f",
   "metadata": {},
   "source": [
    "2.4 👉 Feature Scaling (Standardization)"
   ]
  },
  {
   "cell_type": "code",
   "execution_count": 23,
   "id": "46c649f7-7e47-4f9a-ae08-ece9ca87aae5",
   "metadata": {},
   "outputs": [
    {
     "data": {
      "text/html": [
       "<div>\n",
       "<style scoped>\n",
       "    .dataframe tbody tr th:only-of-type {\n",
       "        vertical-align: middle;\n",
       "    }\n",
       "\n",
       "    .dataframe tbody tr th {\n",
       "        vertical-align: top;\n",
       "    }\n",
       "\n",
       "    .dataframe thead th {\n",
       "        text-align: right;\n",
       "    }\n",
       "</style>\n",
       "<table border=\"1\" class=\"dataframe\">\n",
       "  <thead>\n",
       "    <tr style=\"text-align: right;\">\n",
       "      <th></th>\n",
       "      <th>Gender</th>\n",
       "      <th>Age</th>\n",
       "      <th>Annual Income (k$)</th>\n",
       "      <th>Spending Score (1-100)</th>\n",
       "    </tr>\n",
       "  </thead>\n",
       "  <tbody>\n",
       "    <tr>\n",
       "      <th>0</th>\n",
       "      <td>1.128152</td>\n",
       "      <td>-1.424569</td>\n",
       "      <td>-1.738999</td>\n",
       "      <td>-0.434801</td>\n",
       "    </tr>\n",
       "    <tr>\n",
       "      <th>1</th>\n",
       "      <td>1.128152</td>\n",
       "      <td>-1.281035</td>\n",
       "      <td>-1.738999</td>\n",
       "      <td>1.195704</td>\n",
       "    </tr>\n",
       "    <tr>\n",
       "      <th>2</th>\n",
       "      <td>-0.886405</td>\n",
       "      <td>-1.352802</td>\n",
       "      <td>-1.700830</td>\n",
       "      <td>-1.715913</td>\n",
       "    </tr>\n",
       "    <tr>\n",
       "      <th>3</th>\n",
       "      <td>-0.886405</td>\n",
       "      <td>-1.137502</td>\n",
       "      <td>-1.700830</td>\n",
       "      <td>1.040418</td>\n",
       "    </tr>\n",
       "    <tr>\n",
       "      <th>4</th>\n",
       "      <td>-0.886405</td>\n",
       "      <td>-0.563369</td>\n",
       "      <td>-1.662660</td>\n",
       "      <td>-0.395980</td>\n",
       "    </tr>\n",
       "  </tbody>\n",
       "</table>\n",
       "</div>"
      ],
      "text/plain": [
       "     Gender       Age  Annual Income (k$)  Spending Score (1-100)\n",
       "0  1.128152 -1.424569           -1.738999               -0.434801\n",
       "1  1.128152 -1.281035           -1.738999                1.195704\n",
       "2 -0.886405 -1.352802           -1.700830               -1.715913\n",
       "3 -0.886405 -1.137502           -1.700830                1.040418\n",
       "4 -0.886405 -0.563369           -1.662660               -0.395980"
      ]
     },
     "execution_count": 23,
     "metadata": {},
     "output_type": "execute_result"
    }
   ],
   "source": [
    "#Clustering algorithms are distance-based, so it’s important that all features are on the same scale.\n",
    "\n",
    "scaler = StandardScaler()\n",
    "scaled_features = scaler.fit_transform(df)\n",
    "\n",
    "# Convert back to DataFrame\n",
    "df_scaled = pd.DataFrame(scaled_features, columns=df.columns)\n",
    "\n",
    "# Check scaled data\n",
    "df_scaled.head()"
   ]
  },
  {
   "cell_type": "markdown",
   "id": "e2758559-fadd-4554-addf-3e10c428f572",
   "metadata": {},
   "source": [
    "📍 Step 3: Determine the Optimal Number of Clusters (K)"
   ]
  },
  {
   "cell_type": "markdown",
   "id": "866521e6-365f-4f00-8e97-52f763871f3c",
   "metadata": {},
   "source": [
    "K-Means requires us to specify the number of clusters, k, beforehand. \n",
    "The Elbow Method helps us find a good value by looking at the Within-Cluster Sum of Squares (WCSS)."
   ]
  },
  {
   "cell_type": "code",
   "execution_count": 27,
   "id": "ff5f0ec1-6b5e-4f22-b653-2562633eb362",
   "metadata": {},
   "outputs": [
    {
     "name": "stderr",
     "output_type": "stream",
     "text": [
      "C:\\ProgramData\\anaconda3\\Lib\\site-packages\\sklearn\\cluster\\_kmeans.py:1429: UserWarning: KMeans is known to have a memory leak on Windows with MKL, when there are less chunks than available threads. You can avoid it by setting the environment variable OMP_NUM_THREADS=1.\n",
      "  warnings.warn(\n",
      "C:\\ProgramData\\anaconda3\\Lib\\site-packages\\sklearn\\cluster\\_kmeans.py:1429: UserWarning: KMeans is known to have a memory leak on Windows with MKL, when there are less chunks than available threads. You can avoid it by setting the environment variable OMP_NUM_THREADS=1.\n",
      "  warnings.warn(\n",
      "C:\\ProgramData\\anaconda3\\Lib\\site-packages\\sklearn\\cluster\\_kmeans.py:1429: UserWarning: KMeans is known to have a memory leak on Windows with MKL, when there are less chunks than available threads. You can avoid it by setting the environment variable OMP_NUM_THREADS=1.\n",
      "  warnings.warn(\n",
      "C:\\ProgramData\\anaconda3\\Lib\\site-packages\\sklearn\\cluster\\_kmeans.py:1429: UserWarning: KMeans is known to have a memory leak on Windows with MKL, when there are less chunks than available threads. You can avoid it by setting the environment variable OMP_NUM_THREADS=1.\n",
      "  warnings.warn(\n",
      "C:\\ProgramData\\anaconda3\\Lib\\site-packages\\sklearn\\cluster\\_kmeans.py:1429: UserWarning: KMeans is known to have a memory leak on Windows with MKL, when there are less chunks than available threads. You can avoid it by setting the environment variable OMP_NUM_THREADS=1.\n",
      "  warnings.warn(\n",
      "C:\\ProgramData\\anaconda3\\Lib\\site-packages\\sklearn\\cluster\\_kmeans.py:1429: UserWarning: KMeans is known to have a memory leak on Windows with MKL, when there are less chunks than available threads. You can avoid it by setting the environment variable OMP_NUM_THREADS=1.\n",
      "  warnings.warn(\n",
      "C:\\ProgramData\\anaconda3\\Lib\\site-packages\\sklearn\\cluster\\_kmeans.py:1429: UserWarning: KMeans is known to have a memory leak on Windows with MKL, when there are less chunks than available threads. You can avoid it by setting the environment variable OMP_NUM_THREADS=1.\n",
      "  warnings.warn(\n",
      "C:\\ProgramData\\anaconda3\\Lib\\site-packages\\sklearn\\cluster\\_kmeans.py:1429: UserWarning: KMeans is known to have a memory leak on Windows with MKL, when there are less chunks than available threads. You can avoid it by setting the environment variable OMP_NUM_THREADS=1.\n",
      "  warnings.warn(\n",
      "C:\\ProgramData\\anaconda3\\Lib\\site-packages\\sklearn\\cluster\\_kmeans.py:1429: UserWarning: KMeans is known to have a memory leak on Windows with MKL, when there are less chunks than available threads. You can avoid it by setting the environment variable OMP_NUM_THREADS=1.\n",
      "  warnings.warn(\n",
      "C:\\ProgramData\\anaconda3\\Lib\\site-packages\\sklearn\\cluster\\_kmeans.py:1429: UserWarning: KMeans is known to have a memory leak on Windows with MKL, when there are less chunks than available threads. You can avoid it by setting the environment variable OMP_NUM_THREADS=1.\n",
      "  warnings.warn(\n"
     ]
    },
    {
     "data": {
      "image/png": "[encoded data removed]",
      "text/plain": [
       "<Figure size 800x500 with 1 Axes>"
      ]
     },
     "metadata": {},
     "output_type": "display_data"
    }
   ],
   "source": [
    "# List to store the WCSS for each k\n",
    "wcss = []  \n",
    "\n",
    "# Try different values of k from 1 to 10\n",
    "for i in range(1, 11):\n",
    "    kmeans = KMeans(n_clusters=i, init='k-means++', random_state=42)\n",
    "    kmeans.fit(df_scaled)\n",
    "    wcss.append(kmeans.inertia_)\n",
    "\n",
    "# Plotting the elbow graph\n",
    "plt.figure(figsize=(8, 5))\n",
    "plt.plot(range(1, 11), wcss, marker='o')\n",
    "plt.title('The Elbow Method')\n",
    "plt.xlabel('Number of clusters (k)')\n",
    "plt.ylabel('WCSS')\n",
    "plt.xticks(range(1, 11))\n",
    "plt.grid(True)\n",
    "plt.show()"
   ]
  },
  {
   "cell_type": "code",
   "execution_count": null,
   "id": "69f57c19-b03f-4926-b7f8-a916b484df4d",
   "metadata": {},
   "outputs": [],
   "source": [
    "#5 clusters is a good choice for our K-Means model"
   ]
  },
  {
   "cell_type": "markdown",
   "id": "8ea058f4-3c80-4815-a0bd-a662dcf3ef89",
   "metadata": {},
   "source": [
    "⏭️ Next: Step 4 – Apply K-Means Clustering"
   ]
  },
  {
   "cell_type": "code",
   "execution_count": 29,
   "id": "ddae9a21-dd6b-4cff-a0df-98f3e9b30e82",
   "metadata": {},
   "outputs": [
    {
     "name": "stderr",
     "output_type": "stream",
     "text": [
      "C:\\ProgramData\\anaconda3\\Lib\\site-packages\\sklearn\\cluster\\_kmeans.py:1429: UserWarning: KMeans is known to have a memory leak on Windows with MKL, when there are less chunks than available threads. You can avoid it by setting the environment variable OMP_NUM_THREADS=1.\n",
      "  warnings.warn(\n"
     ]
    },
    {
     "data": {
      "text/html": [
       "<div>\n",
       "<style scoped>\n",
       "    .dataframe tbody tr th:only-of-type {\n",
       "        vertical-align: middle;\n",
       "    }\n",
       "\n",
       "    .dataframe tbody tr th {\n",
       "        vertical-align: top;\n",
       "    }\n",
       "\n",
       "    .dataframe thead th {\n",
       "        text-align: right;\n",
       "    }\n",
       "</style>\n",
       "<table border=\"1\" class=\"dataframe\">\n",
       "  <thead>\n",
       "    <tr style=\"text-align: right;\">\n",
       "      <th></th>\n",
       "      <th>Gender</th>\n",
       "      <th>Age</th>\n",
       "      <th>Annual Income (k$)</th>\n",
       "      <th>Spending Score (1-100)</th>\n",
       "      <th>Cluster</th>\n",
       "    </tr>\n",
       "  </thead>\n",
       "  <tbody>\n",
       "    <tr>\n",
       "      <th>0</th>\n",
       "      <td>1</td>\n",
       "      <td>19</td>\n",
       "      <td>15</td>\n",
       "      <td>39</td>\n",
       "      <td>2</td>\n",
       "    </tr>\n",
       "    <tr>\n",
       "      <th>1</th>\n",
       "      <td>1</td>\n",
       "      <td>21</td>\n",
       "      <td>15</td>\n",
       "      <td>81</td>\n",
       "      <td>2</td>\n",
       "    </tr>\n",
       "    <tr>\n",
       "      <th>2</th>\n",
       "      <td>0</td>\n",
       "      <td>20</td>\n",
       "      <td>16</td>\n",
       "      <td>6</td>\n",
       "      <td>4</td>\n",
       "    </tr>\n",
       "    <tr>\n",
       "      <th>3</th>\n",
       "      <td>0</td>\n",
       "      <td>23</td>\n",
       "      <td>16</td>\n",
       "      <td>77</td>\n",
       "      <td>4</td>\n",
       "    </tr>\n",
       "    <tr>\n",
       "      <th>4</th>\n",
       "      <td>0</td>\n",
       "      <td>31</td>\n",
       "      <td>17</td>\n",
       "      <td>40</td>\n",
       "      <td>4</td>\n",
       "    </tr>\n",
       "  </tbody>\n",
       "</table>\n",
       "</div>"
      ],
      "text/plain": [
       "   Gender  Age  Annual Income (k$)  Spending Score (1-100)  Cluster\n",
       "0       1   19                  15                      39        2\n",
       "1       1   21                  15                      81        2\n",
       "2       0   20                  16                       6        4\n",
       "3       0   23                  16                      77        4\n",
       "4       0   31                  17                      40        4"
      ]
     },
     "execution_count": 29,
     "metadata": {},
     "output_type": "execute_result"
    }
   ],
   "source": [
    "#K-Means model using k=5\n",
    "# Apply KMeans with the optimal number of clusters\n",
    "kmeans = KMeans(n_clusters=5, init='k-means++', random_state=42)\n",
    "y_kmeans = kmeans.fit_predict(df_scaled)\n",
    "\n",
    "# Add cluster labels to the original (unscaled) DataFrame for interpretation\n",
    "df['Cluster'] = y_kmeans\n",
    "\n",
    "# Preview the data with clusters\n",
    "df.head()"
   ]
  },
  {
   "cell_type": "markdown",
   "id": "c1461d42-a4eb-4165-bc11-cf8af5fa5250",
   "metadata": {},
   "source": [
    "🧭 Step 5: Visualizing the Clusters"
   ]
  },
  {
   "cell_type": "markdown",
   "id": "94e4c013-b277-4e46-8ab6-8ccd70029e93",
   "metadata": {},
   "source": [
    "Visualizing the clusters in 2D using PCA (Principal Component Analysis) to reduce dimensionality."
   ]
  },
  {
   "cell_type": "code",
   "execution_count": 35,
   "id": "9828d437-1888-474d-8b04-3b1838022b1a",
   "metadata": {},
   "outputs": [
    {
     "data": {
      "image/png": "[encoded data removed]",
      "text/plain": [
       "<Figure size 800x600 with 1 Axes>"
      ]
     },
     "metadata": {},
     "output_type": "display_data"
    }
   ],
   "source": [
    "# Reduce to 2 components for visualization\n",
    "pca = PCA(n_components=2)\n",
    "components = pca.fit_transform(df_scaled)\n",
    "\n",
    "# Create a new DataFrame for visualization\n",
    "pca_df = pd.DataFrame(data=components, columns=['PCA1', 'PCA2'])\n",
    "pca_df['Cluster'] = df['Cluster']\n",
    "\n",
    "# Plot the clusters\n",
    "plt.figure(figsize=(8, 6))\n",
    "for cluster in sorted(pca_df['Cluster'].unique()):\n",
    "    plt.scatter(\n",
    "        pca_df[pca_df['Cluster'] == cluster]['PCA1'],\n",
    "        pca_df[pca_df['Cluster'] == cluster]['PCA2'],\n",
    "        label=f'Cluster {cluster}'\n",
    "    )\n",
    "\n",
    "plt.title('Customer Segments Visualized with PCA')\n",
    "plt.xlabel('PCA Component 1')\n",
    "plt.ylabel('PCA Component 2')\n",
    "plt.legend()\n",
    "plt.grid(True)\n",
    "plt.show()"
   ]
  },
  {
   "cell_type": "markdown",
   "id": "ac9f2c44-b00c-4e4d-a910-8b8c45705516",
   "metadata": {},
   "source": [
    "🧠 Step 6: Interpret and Analyze the Clusters"
   ]
  },
  {
   "cell_type": "markdown",
   "id": "36fa4a04-e9ad-4f3f-b72a-72d1f90a2d6b",
   "metadata": {},
   "source": [
    "This step is about understanding the characteristics of each cluster to derive actionable business insights."
   ]
  },
  {
   "cell_type": "markdown",
   "id": "ad2b8106-6a27-461a-93df-5644583b344c",
   "metadata": {},
   "source": [
    "📋 First: Get Summary Statistics by Cluster (Average Gender, Age, Income, and Spending Score per cluster)"
   ]
  },
  {
   "cell_type": "code",
   "execution_count": 37,
   "id": "df412de7-a9ac-4ac5-854c-010d437042c6",
   "metadata": {},
   "outputs": [
    {
     "data": {
      "text/html": [
       "<div>\n",
       "<style scoped>\n",
       "    .dataframe tbody tr th:only-of-type {\n",
       "        vertical-align: middle;\n",
       "    }\n",
       "\n",
       "    .dataframe tbody tr th {\n",
       "        vertical-align: top;\n",
       "    }\n",
       "\n",
       "    .dataframe thead th {\n",
       "        text-align: right;\n",
       "    }\n",
       "</style>\n",
       "<table border=\"1\" class=\"dataframe\">\n",
       "  <thead>\n",
       "    <tr style=\"text-align: right;\">\n",
       "      <th></th>\n",
       "      <th>Gender</th>\n",
       "      <th>Age</th>\n",
       "      <th>Annual Income (k$)</th>\n",
       "      <th>Spending Score (1-100)</th>\n",
       "    </tr>\n",
       "    <tr>\n",
       "      <th>Cluster</th>\n",
       "      <th></th>\n",
       "      <th></th>\n",
       "      <th></th>\n",
       "      <th></th>\n",
       "    </tr>\n",
       "  </thead>\n",
       "  <tbody>\n",
       "    <tr>\n",
       "      <th>0</th>\n",
       "      <td>0.509804</td>\n",
       "      <td>56.470588</td>\n",
       "      <td>46.098039</td>\n",
       "      <td>39.313725</td>\n",
       "    </tr>\n",
       "    <tr>\n",
       "      <th>1</th>\n",
       "      <td>1.000000</td>\n",
       "      <td>39.500000</td>\n",
       "      <td>85.150000</td>\n",
       "      <td>14.050000</td>\n",
       "    </tr>\n",
       "    <tr>\n",
       "      <th>2</th>\n",
       "      <td>1.000000</td>\n",
       "      <td>28.690476</td>\n",
       "      <td>60.904762</td>\n",
       "      <td>70.238095</td>\n",
       "    </tr>\n",
       "    <tr>\n",
       "      <th>3</th>\n",
       "      <td>0.000000</td>\n",
       "      <td>37.897959</td>\n",
       "      <td>82.122449</td>\n",
       "      <td>54.448980</td>\n",
       "    </tr>\n",
       "    <tr>\n",
       "      <th>4</th>\n",
       "      <td>0.000000</td>\n",
       "      <td>27.315789</td>\n",
       "      <td>38.842105</td>\n",
       "      <td>56.210526</td>\n",
       "    </tr>\n",
       "  </tbody>\n",
       "</table>\n",
       "</div>"
      ],
      "text/plain": [
       "           Gender        Age  Annual Income (k$)  Spending Score (1-100)\n",
       "Cluster                                                                 \n",
       "0        0.509804  56.470588           46.098039               39.313725\n",
       "1        1.000000  39.500000           85.150000               14.050000\n",
       "2        1.000000  28.690476           60.904762               70.238095\n",
       "3        0.000000  37.897959           82.122449               54.448980\n",
       "4        0.000000  27.315789           38.842105               56.210526"
      ]
     },
     "execution_count": 37,
     "metadata": {},
     "output_type": "execute_result"
    }
   ],
   "source": [
    "# Group by cluster and show mean values\n",
    "df.groupby('Cluster').mean(numeric_only=True)"
   ]
  },
  {
   "cell_type": "markdown",
   "id": "6b9af722-d227-4316-9189-c6dd9d5ca543",
   "metadata": {},
   "source": [
    "Cluster    | Gender | Age | Income (k$) | Spending Score | 🧾 Interpretation\n",
    "0 | ~50/50  | 56.5  | 46.1 | 39.3 | 🧓 Older, moderate earners, average spenders. May prefer traditional marketing or value offers. Could be brand-loyal.\n",
    "1 | 100% ♂️ | 39.5  | 85.1 | 14.1 | 💼 High-income males who spend little. Possibly conservative spenders — upsell premium services or personalized experiences.\n",
    "2 | 100% ♂️ | 28.7  | 60.9 | 70.2 | 🧨 Young, high spenders with moderate income. Target with lifestyle & experience-driven marketing. Likely impulse buyers.\n",
    "3 | 100% ♀️ | 37.9  | 82.1 | 54.4 | 💎 High-income females with good spending. Premium customers — perfect for loyalty programs, VIP events.\n",
    "4 | 100% ♀️ | 27.3  | 38.8 | 56.2 | 🛍️ Young females, lower income, but spend well. Likely deal-seekers — attract with promotions, trendy products, and social media."
   ]
  },
  {
   "cell_type": "markdown",
   "id": "5d1a77bc-329f-4e63-902b-9ff94618da38",
   "metadata": {},
   "source": [
    "Five customer segments were identified:\n",
    "- Cluster 0: Older, balanced gender, average income, moderate spending.\n",
    "- Cluster 1: High-income males, low spending.\n",
    "- Cluster 2: Young males, moderate income, high spending.\n",
    "- Cluster 3: High-income females, medium-high spending.\n",
    "- Cluster 4: Young females, low income, good spending."
   ]
  },
  {
   "cell_type": "markdown",
   "id": "20f6e136-e3ac-4cf0-89e9-df8282fc75cd",
   "metadata": {},
   "source": [
    "📊 Step 7 :- Strategic Actions\n",
    "🎯 Marketing & Business Recommendations:\n",
    "Cluster 0: Offer senior benefits, loyalty discounts, or bundle deals.\n",
    "\n",
    "Cluster 1: Engage with exclusive experiences or financial products, not just discounts.\n",
    "\n",
    "Cluster 2: Highlight trendy, aspirational products — these are active spenders!\n",
    "\n",
    "Cluster 3: Strong candidates for premium loyalty tiers. Prioritize retention.\n",
    "\n",
    "Cluster 4: Use Instagram/Snapchat-style promotions or influencer campaigns to drive further spending."
   ]
  },
  {
   "cell_type": "code",
   "execution_count": null,
   "id": "16a68c6e-3ce9-46ee-815e-3d59807dd1b8",
   "metadata": {},
   "outputs": [],
   "source": []
  }
 ],
 "metadata": {
  "kernelspec": {
   "display_name": "Python [conda env:base] *",
   "language": "python",
   "name": "conda-base-py"
  },
  "language_info": {
   "codemirror_mode": {
    "name": "ipython",
    "version": 3
   },
   "file_extension": ".py",
   "mimetype": "text/x-python",
   "name": "python",
   "nbconvert_exporter": "python",
   "pygments_lexer": "ipython3",
   "version": "3.12.7"
  }
 },
 "nbformat": 4,
 "nbformat_minor": 5
}
